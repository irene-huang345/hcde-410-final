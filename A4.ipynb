{
 "cells": [
  {
   "cell_type": "markdown",
   "id": "6ad28545-c0d7-4b72-b791-988d7696019d",
   "metadata": {},
   "source": [
    "**<h1>A4 Final Project Preliminary Proposal**\n"
   ]
  },
  {
   "cell_type": "markdown",
   "id": "f808e052-d546-4236-8c8b-4365bfaed7a7",
   "metadata": {},
   "source": [
    "**<h2>Motivations and Problem Statement**\n"
   ]
  },
  {
   "cell_type": "markdown",
   "id": "ee2bc3f7-d3f2-4f45-b92b-3136b18a9a62",
   "metadata": {},
   "source": [
    "**<h4>Overall Research Goal**\n",
    "    My research goal is to look at popular songs on tiktok and see how the songs influence what type of dance (hip hop, contemporary, wacking, etc.) is made that makes these short dances go viral. Tiktok has made its own style of dance where it’s “easy” to learn, super short and can be done anywhere. But, when we look at some of the viral dances like renegade or WAP, there is a cultural context that surrounds the dance. I’m curious to know more about users and content creator demographics or backgrounds that engage with this dance/trend and see how this plays a role in the choreography or even popularity within the video. As though Tiktok has its own algorithm on catering content to users, what makes some of these dances that go viral more popular than others? Is it the song choice or the age and popularity of the influencer, etc?"
   ]
  },
  {
   "cell_type": "markdown",
   "id": "c5bc1f87-094f-4f58-8be4-2a8d17bca448",
   "metadata": {},
   "source": [
    "**<h4>Q1:Why are you planning to do this analysis?** \n",
    "\n",
    "I’m planning to do this analysis because I wanted to look at social media in terms of its global audience. Everyone using the platform is from different places and is brought together in this digital and online community. I’m interested in dance and the music I listen to comes from tiktok. As Dance is a form of nonverbal communication and as it utilizes various forms of music (as simple as a beat or a thud), these two components are able to bring people together despite the language barrier or cultural differences they experience and are often a form of self-expression. When we look at WAP, there’s heavy usage of twerking and body rolls which really contributes to a hip hop or sensual street style of dance but that comes from a Black and Caribbean culture. As though popular influencers on Tiktok brought popularity to the dance without crediting the original creator, this leads to the lack of respect for the cultures or creators. However, many people are posting their videos of them doing the dance and as this dance has made its way to different platforms like Youtube, the access to it is not only limited to those in the United States but it spreads to different countries. Thus, I’m kind of curious to know about this global awareness and how these dances are being impacted. Do they gain more popularity because of the song? Or is it the popularity of the creator?\n"
   ]
  },
  {
   "cell_type": "markdown",
   "id": "84e67b08-8065-402d-943d-0f51e79e15d4",
   "metadata": {},
   "source": [
    "**<h4>Q2:Why is it potentially interesting and useful, from a scientific, practical, and/or human-centered perspective?** \n",
    "\n",
    "My research goal is to look at popular songs on tiktok and see how the songs influence what type of dance (hip hop, contemporary, wacking, etc.) is made that makes these short dances go viral. Tiktok has made its own style of dance where it’s “easy” to learn, super short and can be done anywhere. But, when we look at some of the viral dances like renegade or WAP, there is a cultural context that surrounds the dance. I’m curious to know more about users and content creator demographics or backgrounds that engage with this dance/trend and see how this plays a role in the choreography or even popularity within the video. As though Tiktok has its own algorithm on catering content to users, what makes some of these dances that go viral more popular than others? Is it the song choice or the age and popularity of the influencer, etc?"
   ]
  },
  {
   "cell_type": "markdown",
   "id": "33222f90-7c8d-4bbe-809f-09e086b0d044",
   "metadata": {},
   "source": [
    "**<h4>Q3:What do you hope to learn?**\n",
    "\n",
    "I hope to learn about the impact of Tiktok dances on a global scale. Every region has their own interpretation or style of tiktok dances that they conform to or they follow a common trend that originates from somewhere. The prevalence of finding someone and filming a tik tok with them is part of our culture and norms today and sometimes, we make friends or a connection in the community. I’m curious to know more about what informs the choices we make for choosing the song to use or the dance that we create. I would also like to know about the community environment and comments that surrounds these dances. Are they positive and uplifting or is it a competition to see who has the better dance?"
   ]
  },
  {
   "cell_type": "markdown",
   "id": "ffa3b4c3-07a6-4fd3-b339-22e4a0c46bbe",
   "metadata": {},
   "source": [
    "**<h2>Data selected for analysis**"
   ]
  },
  {
   "cell_type": "markdown",
   "id": "b08ced63-a763-4f26-ab6d-4e69e7a64449",
   "metadata": {},
   "source": [
    "**<h4>Dataset #1: “Top 1000 Tiktok Influencers Ranking”**"
   ]
  },
  {
   "cell_type": "markdown",
   "id": "dd5b3255-0435-4677-a09b-9c1adfd01be6",
   "metadata": {},
   "source": [
    " **Dataset Link:**\n",
    "    https://www.kaggle.com/datasets/prasertk/top-1000-tiktok-influencers-ranking\n",
    "\n",
    "The first dataset I plan on using is “Top 1000 Tiktok Influencers Ranking” . This helps me identify some of the popular influencers on tiktok that have the power for their content to be seen because they are well known in the tiktok community.  In the dataset, we are given each influencers ranking, account handle and url, subscriber count, avg. view count on content, avg. likes count,  avg. comments count, and avg. share count. \n",
    "\n",
    "    \n",
    "\n",
    "**License: CC0 Public Domain**\n",
    "    https://creativecommons.org/publicdomain/zero/1.0/\n",
    "\n",
    "The terms of use for this data enables anyone to copy or change the data without needing consent as the owner has waived all their rights and given this work to the public. This work should not be endorsed by anyone or the author\n",
    "\n",
    "This dataset is suitable for addressing my research goals of finding tiktok users and/or content creators as it gives me a list of popular users. The dataset also informs me of their popularity on the platform which is beneficial for determining how much of an impact they create in the tiktok community through their online presence and the engagement they receive through their content. \n",
    "\n",
    "An ehtical consideration is that because this dataset gives the subscriber count for each influencer, this ranking list could have changed by now in terms of who is #1 and the stats that follow which could skew parts of my analysis since I'm looking at the average engagment these influencers they have on their content. Also, Tiktok's own algorithm could skew the results that the publisher of this dataset collected because Tiktok could push certain people to be more seen then others which is why some influencers may have more subscribers than others are. Another ethical consideration is that because these influencers already have so much information published about them, I need to ensure that my work doesn't offend them or creates any misinformation about them since that creates even more bias and these creators may also have their own privacy policies.\n",
    "\n",
    "    \n",
    "    "
   ]
  },
  {
   "cell_type": "markdown",
   "id": "a30f1702-62eb-41ad-b138-9f59e1785ddf",
   "metadata": {},
   "source": [
    "**<h4>Dataset #2: “Tiktok Popular Songs 2022”**"
   ]
  },
  {
   "cell_type": "markdown",
   "id": "b4c5a332-0c36-41bc-8fc6-e1cbbc89bcfa",
   "metadata": {},
   "source": [
    "**Dataset Link:**\n",
    "    https://www.kaggle.com/datasets/sveta151/tiktok-popular-songs-2022\n",
    "\n",
    "In this dataset, we are given a total of 258 songs that were popular on Tiktok in 2022. For each song, we are given the title of each song, and which album they belong to along with their respective artist name and the artists popularity. Following each song, we are given the popularity, danceability, energy level, loudness, mode and key. These fields dived into the technicalities of the music looking at the pitch, melody, decibels and intensity of the music.\n",
    "\n",
    "**License: CC0: Public Domain**\n",
    "    https://creativecommons.org/publicdomain/zero/1.0/\n",
    "\n",
    "The terms of use for this data enables anyone to copy or change the data without needing consent as the owner has waived all their rights and given this work to the public. This work should not be endorsed by anyone or the author whatsoever.\n",
    "\n",
    "This dataset is a suitable for addressing my research goal of what popular songs on tiktok and what about these songs influence the dances that are being made and going viral. The dataset has the technicalities of each song that I need such as the pitch, the melody, the energy, and specifically, the danceabiltiy of each song which is all great in dertmining what characteristics these songs have to be so catchy or trendy.\n",
    "    \n",
    "An ethical consideration is the accuracy and the validity of all the fields for each song. It's important to know how each field is determined and as a whole, what makes this dataset represenative of the most popular songs in Tiktok in 2022. Additionally, it's important to know where the publisher of this dataset is getting this popularity ranking and perhaps, knowing where they are based. Tiktok runs own its own algorithm but some of the content we see can be based on our location. As mentioend earlier, there's also the algorithms influence on which content gets pushed out which could influence which songs are popular. If I use a recording of the music, I do need to be aware of copyright and licensing issues. Furthermore, this dataset gives the original song but often times on tiktok, there are remixed versions of the original song. This may create an impact on the conclusions I'm creating and develop further misinformation about these common songs in terms of their respective characteristics. "
   ]
  },
  {
   "cell_type": "markdown",
   "id": "74d3d2e6-bb3d-4f4e-a127-cf27148f0595",
   "metadata": {},
   "source": [
    "**<h2>Unknowns and dependencies**"
   ]
  },
  {
   "cell_type": "markdown",
   "id": "6ded3107-cc26-47a6-8efd-1233fe57627b",
   "metadata": {},
   "source": [
    "As of currently, I'm not sure about any factors that are outside of my control that might impact my ability to complete this project by the end of the quarter. Perhaps, if I'm overwhelmed about the workload I have or if I get sick, this will give me less time to work on the project. I do tend to get spaced out unintentionally and I haven't been able to figure out the reason as to why but sometimes I'm spaced out for around 10 minutes so this may hinder my progression within the project. If anything arises, I'll be sure to keep everyone informed!"
   ]
  },
  {
   "cell_type": "markdown",
   "id": "00e9268b-190c-4d2b-b0a2-4086b5885e60",
   "metadata": {},
   "source": [
    "**<h2>Feedback from peer review**"
   ]
  },
  {
   "cell_type": "markdown",
   "id": "df66a8ab-f69e-4c0d-9e91-42131fd39b34",
   "metadata": {},
   "source": [
    "My project originally looked at differences in generational slang and how that impacted content creation and consumption. I recieved feedback that looking at generational slang might be tricky because slang is becoming more wide-spread throughout the years so if I wanted to look at that in social media, that might be a bit hard because how we interact with social media or the online community has significantly changed. Back in the day, it was emphasized to be cautious about what information we put out but nowadays, we are more open on social media and we voice our opinions. Additionally, there wasn't that much data we found about gen alpha's usage on social media as that is still in the process of developing so I had to rework my problem statement. I still focus on social media and look at content creation, I shifted my topic to dance and music. It still encompasses the cultural context and user demographics that I wanted to look at originally.  "
   ]
  },
  {
   "cell_type": "markdown",
   "id": "270ee489-c638-4f6c-a8b2-908501e62f70",
   "metadata": {},
   "source": [
    "**<h1>A5 Final Project Plan**\n"
   ]
  },
  {
   "cell_type": "markdown",
   "id": "1cf86b08-e56b-492c-951b-fd1c70f29f30",
   "metadata": {},
   "source": [
    "**<h2>Motivations and Problem Statement**\n"
   ]
  },
  {
   "cell_type": "markdown",
   "id": "5ac4d84a-1793-4981-9237-ad5b5ffed624",
   "metadata": {},
   "source": [
    "**<h4>Overall Research Goal**\n",
    "My overall research goal is to look at popular songs on Tiktok and Spotify and compare them to see if they reveal any insights in terms of their popularity or exposure levels, musical characteristics that are shared amongst songs or that make songs popular, in addition to seeing if Tiktok or spotify has one or more common themes/trend that they see in their platform. For example, does Tiktok have more catchy music and remixes whereas spotify has more chill music?\n"
   ]
  },
  {
   "cell_type": "markdown",
   "id": "f1d2d4ad-e8fb-4d7a-83bc-dafd0c53da71",
   "metadata": {},
   "source": [
    "**<h4>Q1:Why are you planning to do this analysis?** \n",
    "I’m interested in doing this analysis because some of the music or artists that we listen to nowadays stem from its exposure or publication on Tiktok. For example, Lyn Lapid first started off by publishing her music on Tiktok and it wasn’t until later she was on Spotify and I can listen to her on a daily basis. As our generation or time is increasingly scrolling on social media, with the majority of the clips containing a snippet of audio, there are more remixes or versions  of a song to fit a certain context and as though these aren’t official, many people favor them and use them in the videos they create. Sometimes, I like to scroll tiktoks so I can listen to the music and update what I’m listening to and sometimes, they are strong enough to evoke a certain emotion from me so I’m curious if the use of music in tiktoks is something that drives user engagement within the app. Thus, I want to compare it to the top songs on Spotify and see if there is any correlation between the popularity of the track and what musical characteristics they might share.\n",
    "\n",
    "\n"
   ]
  },
  {
   "cell_type": "markdown",
   "id": "a1e6241f-2e9a-44f3-b5d1-000ab580d303",
   "metadata": {},
   "source": [
    "**<h4>Q2:Why is it potentially interesting and useful, from a scientific, practical, and/or human-centered perspective?** \n",
    "Looking at popular songs on Tiktok and Spotify could be interesting and useful because it might uncover a trend whether that’s how to be a celebrity, what music people like to listen to and what music is trending but also you can look at the platforms in terms of which platform is more likely to market certain songs or give greater amounts of revenue. From a more practical standpoint, I think it’s really beneficial to look at the exposure levels of each song on both platforms which is most likely by looking at popularity or streaming number of the track as this may play a role in the marketing/algorithm used to promote music . Additionally, as tiktok is a way to find music, tiktok is also a platform of self expression whether that is creating memes, vlogs or short dances which makes me wonder if the music available on tiktok generates more user engagement. Most likely, some of the versions of each song may not be found on spotify. By examining the cultural context or trends of these platforms could also give insight into technicalities of each song and seeing if those are factors into user engagement like we mentioned earlier or looking at what emotions a song might convey to make it popular. \n"
   ]
  },
  {
   "cell_type": "markdown",
   "id": "7c1d0633-433a-418e-af50-67098a04448b",
   "metadata": {},
   "source": [
    "**<h4>Q3:What do you hope to learn?**\n",
    "\tFrom this analysis, I hope to learn more about the significance of music on each platform. We know that Spotify is good for bringing music on the go and it acts like a radio whereas Tiktok is more for creating content and reels for people to watch but both of their music lineups are so big from the official song to remixes or unpublished songs, respectively. I also want to learn if tiktok is a feeder for spotify music. Does the number of streams a song has on spotify correlate with the popularity of the song on Tiktok? I also want to know if the tiktok version of a song is a cover or has any differences compared to the original song that’s on spotify. I’m also curious to know if there’s a trend in song structure that makes the song more popular on tiktok or on spotify. \n",
    "\n"
   ]
  },
  {
   "cell_type": "markdown",
   "id": "cc11f541-b530-4bae-b82b-f09f6eef6a6b",
   "metadata": {},
   "source": [
    "**<h2>Data selected for analysis**"
   ]
  },
  {
   "cell_type": "markdown",
   "id": "91a10f78-7318-4140-92a3-f6088ea61515",
   "metadata": {},
   "source": [
    "**<h4>Dataset #1: “Tiktok Popular Songs 2022”**"
   ]
  },
  {
   "cell_type": "markdown",
   "id": "9377f971-4b8f-4ae4-a8e3-0b49b863afd2",
   "metadata": {},
   "source": [
    "**Dataset Link:**\n",
    "    https://www.kaggle.com/datasets/sveta151/tiktok-popular-songs-2022\n",
    "\n",
    "In this dataset, we are given a total of 258 songs that were popular on Tiktok in 2022. For each song, we are given the title of each song, and which album they belong to along with their respective artist name and the artists popularity. Following each song, we are given the popularity, danceability, energy level, loudness, mode and key. These fields dived into the technicalities of the music looking at the pitch, melody, decibels and intensity of the music.\n",
    "\n",
    "**License: CC0: Public Domain**\n",
    "    https://creativecommons.org/publicdomain/zero/1.0/\n",
    "\n",
    "The terms of use for this data enables anyone to copy or change the data without needing consent as the owner has waived all their rights and given this work to the public. This work should not be endorsed by anyone or the author whatsoever.\n",
    "\n",
    "This dataset not only gives me the popular songs on tiktok but gives me each song's musical technicalities in addition a mesaure of how popular each song is which is great for looking at what song characteristics makeup the popular songs on Tiktok. By utilizing the music technicalities, I can see if there's a common pattern or trend that's favored in the popularity of each track and see how that compares to the trends seen in Spotify. By also looking at the song name, this could tell me if Tiktok utilizes a lot of original songs or more remixes which gives me more of an insight to the platform Tiktok is for music. \n",
    "\n",
    "An ethical consideration is the accuracy and the validity of all the fields for each song. It's important to know how each field is determined and as a whole, what makes this dataset represenative of the most popular songs in Tiktok in 2022. Additionally, it's important to know where the publisher of this dataset is getting this popularity ranking and perhaps, knowing where they are based. Tiktok runs own its own algorithm but some of the content we see can be based on our location. As mentioend earlier, there's also the algorithms influence on which content gets pushed out which could influence which songs are popular. If I use a recording of the music, I do need to be aware of copyright and licensing issues. Furthermore, this dataset gives the original song but often times on tiktok, there are remixed versions of the original song. This may create an impact on the conclusions I'm creating and develop further misinformation about these common songs in terms of their respective characteristics."
   ]
  },
  {
   "cell_type": "markdown",
   "id": "7740abc7-a39a-45dc-9a88-e8c5013877c1",
   "metadata": {},
   "source": [
    "**<h4>Dataset #2: “Spotify Top Chart Songs 2022”**"
   ]
  },
  {
   "cell_type": "markdown",
   "id": "cef2b397-7a59-4d9f-8471-08fdd2030480",
   "metadata": {},
   "source": [
    "**Dataset Link:**\n",
    "    https://www.kaggle.com/datasets/sveta151/spotify-top-chart-songs-2022/data\n",
    "\n",
    "In this dataset, we are given a total of 656 songs that were on Spotify's top charts in 2022. For each song, we are given the URI, artist name, track name, peak rank, weeks on chart, danceability, energy level, key, loudness, and mode. \n",
    "\n",
    "**License: Data files © Original Authors**\n",
    "\n",
    "There are no terms and use listed explicitly but this license does require me to properly cite the author of this dataset. \n",
    "\n",
    "This dataset gives me the popular songs on Spotify in 2022 which could hopefully correlate to Tiktok's popular songs in 2022 but it also shares the same musical techniques as the first dataset. This helps me identify the trends seen in popular spotify music in terms of the musicality characteristics but also it shows me the popularity of a track by teling me how many weeks a song has been on a chart. As Tiktok usually works in trends and sogns are popular for a short while before they are phased out by new songs, the length of top charts does give me an insight into the long-term popularity of the songs in general. Using the spotify dataset, I could also look at the general loudness levels in regards to their popular songs which could give me an idea on what type of music they focus on.\n",
    "\n",
    "An ethical consideration is the accuracy and the validity of all the fields for each song. It's important to know how each field is determined and as a whole, what makes this dataset represenative of the most popular songs in Tiktok in 2022. Additionally, it's important to know where the publisher of this dataset is getting this popularity ranking and perhaps, knowing where they are based. Because the author is the same for the two datasets, this plays a great role in how I'm interepreting the data because I could already be experiencing a lot of misinformation and bias throughou these two datasets. I do need to keep in mind that I must properly cite this dataset with its author as per the license and no explicit terms and conditions. "
   ]
  },
  {
   "cell_type": "markdown",
   "id": "d1e7dda8-3c62-4a55-ba5b-e0e2dcc6604d",
   "metadata": {},
   "source": [
    "**<h2>Unknowns and dependencies**"
   ]
  },
  {
   "cell_type": "markdown",
   "id": "fda939d1-065c-4d5d-a406-0a51f970b7c3",
   "metadata": {},
   "source": [
    "As of currently, I'm not sure about any factors that are outside of my control that might impact my ability to complete this project by the end of the quarter. Perhaps, if I'm overwhelmed about the workload I have or if I get sick, this will give me less time to work on the project. I do tend to get spaced out unintentionally and I haven't been able to figure out the reason as to why but sometimes I'm spaced out for around 10 minutes so this may hinder my progression within the project. If anything arises, I'll be sure to keep everyone informed!"
   ]
  },
  {
   "cell_type": "markdown",
   "id": "68002c10-1fff-444a-8411-afb0062b1bcc",
   "metadata": {},
   "source": [
    "**<h2>Feedback from peer review**"
   ]
  },
  {
   "cell_type": "markdown",
   "id": "96499df1-6d5a-4807-917d-75c29ff470ea",
   "metadata": {},
   "source": [
    "I received feedback that my project research would benefit if it was scoped down a lot. I thought the Tiktok dataset I had was beneficial as not only does it give a popularity of a track but it discussed technicalities of the music. I knew that we use Tiktok on the daily basis and sometimes it's where we get our information and music from so I really wanted to look at another popular music platform like Spotify or Youtube Music and see how the two platforms impact what music we listen to and what's so different about them, while still wanting to focus on the aspect of popular music. "
   ]
  },
  {
   "cell_type": "markdown",
   "id": "301df070-57ac-49a4-aa48-624fcb2d2c99",
   "metadata": {},
   "source": [
    "**<h2>Overview and research questions (or hypotheses):**"
   ]
  },
  {
   "cell_type": "markdown",
   "id": "e698d6f1-ee98-4f0b-a854-34f184517d08",
   "metadata": {},
   "source": [
    "The goal of this project is to compare popular songs on Tiktok and Spotify to see what makes the songs so popular on both platforms and what about the musical characterisitcs of each songs that make the song so popular. Additionally, my goal is to see if Tiktok music is a feeder to music on Spotify and if the variety or remixes in Tiktok music serves as a driving force for user engagement on the app. The motivations behind this project is that Tiktok not only offers different versions of the original song but nowadays, many artists like Lyn Lapid start out on Tiktok before moving to a bigger platform like Spotify to publish their music and because there are some artists that don't make it as big, their music lives within the Tiktok community and is used by other people when content is being created. Futhremore, Tiktok has a lot of user-generated content, and in addition to their algorithm, they have their own way for influencing what songs or content gets popular so it would be interesting to look at the songs in correlation to their popularity or how long the song has stayed in the top charts to create a conclusion as to why these songs on these datasets are popular. \n",
    "\n",
    "**Research Questions:**\n",
    "1. What musical characteristics (e.g. danceability, key, loudness, etc.) make songs popular on Tiktok and Spotify?\n",
    "2. What there certain musical characteristics that are more prevalent on each platform? (e.g. Does Tiktok have more popular songs with high energy levels?)\n",
    "3. Is there a relationship between the popularity of a track on Tiktok and the peak rank or number of weeks on chart for that same song on Spotify?\n",
    "4. To what extent, does the popularity of a Tiktok song influence the popularity of the same song on Spotify? "
   ]
  },
  {
   "cell_type": "markdown",
   "id": "39ba5504-dd1e-43b0-891e-25ce8043c051",
   "metadata": {},
   "source": [
    "**<h2>Background and/or Related Work:**"
   ]
  },
  {
   "cell_type": "markdown",
   "id": "bcca4ad7-1ac2-4efc-9688-11f7522286b3",
   "metadata": {},
   "source": [
    "There was a case study on \"Viral Tiktok Artists' Spotify Monthly Listers vs. Followers\" which resulted in as songs on Tiktok goes viral not many people know the artist and the artists themselves don't have a high follower count either[1]. There was another case study \"Tiktok vs. Spotify: The shape of music thru an interface\" in which they revealed that spotify is a more enrgy oriented platform which really does target one of the generalizations that I wanted to make after answering my research questions[2].\n",
    "The previous work that has been done in this field pushes me to proceed forward because even if the answers exist to the research questions I have, I still want to do this research myself and see the answers that I get. From there, I can compare if the answers are the same and it turns into a challenge if the answers are different. \n",
    "\n",
    "Endnotes:\n",
    "[^1]: https://l1neupdigital.medium.com/case-study-viral-tik-tok-artists-spotify-monthly-listeners-vs-followers-b8e4b159fa26\n",
    "[^2]: https://medium.com/@cohenneeman/tiktok-vs-spotify-the-shape-of-music-thru-an-interface-df4ef085425e\n"
   ]
  },
  {
   "cell_type": "markdown",
   "id": "b5ceb0b7-e3de-43bb-9dcd-24c2f2912147",
   "metadata": {},
   "source": [
    "**<h2>Methodology**"
   ]
  },
  {
   "cell_type": "markdown",
   "id": "caf5b11a-edc4-446a-ae8f-ba2cbab6c3e5",
   "metadata": {},
   "source": [
    "To investigate this phenomenon, I will first filter the data in terms of removing any uncompleted rows of data or removing any duplicate rolls. Then, I will merge the two datasets so I can look at the data collectively. \n",
    "\n",
    "**For research Q1:**\n",
    "For each musical characteristic across all the songs, I'll have to calculate the mean and perhaps, the standard deviation and put the data onto a histogram as I can look at the skew of the graph. This gives me a summary of all the statistics and for each platform which allows me to generalize the data and draw conclusions.\n",
    "\n",
    "**For research Q2:**\n",
    "I could use a t-test to answer this question as I can pull the means for each of the musical characteristiscs and look at the major differences between each of the characteristic on both platforms. I can then put this data on a boxplot so that will be able to show me the concentrated mean alongside what outliers we have. Using this method and visualization would help with seeing if there are any differences between the musical characteristics and would give me the generalizations that I'm looking for. \n",
    "\n",
    "**For research Q3:**\n",
    "I plan to use a scatterplot to visualize this data and use a correlation analysis to look at the popularity of a track on tiktok and the peak rank of a song on spotify. This would help analyze the relationship between the two songs on the different platform.\n",
    "\n",
    "**For research Q4:**\n",
    "Using a regression analysis would help as we would be able to look at the correlation amongst each of the songs on the platform so it's great for crowdsourcing all the songs and if we show that tiktok is the independent variable and spotify is the dependent variable, that would hopefully give us a direct answer to the question."
   ]
  },
  {
   "cell_type": "code",
   "execution_count": null,
   "id": "197a5c00-fa0d-47ac-88e7-563e9d8f3253",
   "metadata": {},
   "outputs": [],
   "source": []
  }
 ],
 "metadata": {
  "kernelspec": {
   "display_name": "Python 3 (ipykernel)",
   "language": "python",
   "name": "python3"
  },
  "language_info": {
   "codemirror_mode": {
    "name": "ipython",
    "version": 3
   },
   "file_extension": ".py",
   "mimetype": "text/x-python",
   "name": "python",
   "nbconvert_exporter": "python",
   "pygments_lexer": "ipython3",
   "version": "3.10.13"
  }
 },
 "nbformat": 4,
 "nbformat_minor": 5
}
